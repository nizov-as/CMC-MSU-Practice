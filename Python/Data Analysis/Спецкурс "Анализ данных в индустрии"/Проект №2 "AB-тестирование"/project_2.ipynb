{
 "cells": [
  {
   "attachments": {},
   "cell_type": "markdown",
   "metadata": {},
   "source": [
    "### `chat_id ` из Телеграма:"
   ]
  },
  {
   "cell_type": "code",
   "execution_count": null,
   "metadata": {},
   "outputs": [],
   "source": [
    "457863109"
   ]
  },
  {
   "attachments": {},
   "cell_type": "markdown",
   "metadata": {},
   "source": [
    "##  <ins>Задание 1.</ins>"
   ]
  },
  {
   "attachments": {},
   "cell_type": "markdown",
   "metadata": {},
   "source": [
    "### Проект 2.1 \"A/B тест на процессе продажных обзвонов\""
   ]
  },
  {
   "attachments": {},
   "cell_type": "markdown",
   "metadata": {},
   "source": [
    "**Контекст:**\n",
    "Мы считаем, что наш продукт достаточно дорогой для клиента. У нас есть гипотеза, что уменьшение цены продукта позволит повысить частоту продаж и суммарно увеличит доходность продукта.\n",
    "        \n",
    "**Тест:**\n",
    "Мы проводим тест, в рамках которого контролем является продажа продукта со старой ценой, а тестом — продажа продукта с новой ценой. Целью этого теста является проверка гипотезы роста доходности нашего продукта из-за уменьшения тарифа.\n",
    "\n",
    "**Статистические вводные:**\n",
    "Уровень значимости 5%. Мы хотели бы различать 5%-ное изменение целевой метрики с вероятностью 80%."
   ]
  },
  {
   "cell_type": "code",
   "execution_count": 1,
   "metadata": {},
   "outputs": [],
   "source": [
    "import warnings\n",
    "warnings.filterwarnings('ignore')\n",
    "\n",
    "import numpy as np\n",
    "import pandas as pd\n",
    "import matplotlib.pyplot as plt\n",
    "import seaborn as sns"
   ]
  },
  {
   "cell_type": "code",
   "execution_count": 2,
   "metadata": {},
   "outputs": [
    {
     "data": {
      "text/html": [
       "<div>\n",
       "<style scoped>\n",
       "    .dataframe tbody tr th:only-of-type {\n",
       "        vertical-align: middle;\n",
       "    }\n",
       "\n",
       "    .dataframe tbody tr th {\n",
       "        vertical-align: top;\n",
       "    }\n",
       "\n",
       "    .dataframe thead th {\n",
       "        text-align: right;\n",
       "    }\n",
       "</style>\n",
       "<table border=\"1\" class=\"dataframe\">\n",
       "  <thead>\n",
       "    <tr style=\"text-align: right;\">\n",
       "      <th></th>\n",
       "      <th>ID</th>\n",
       "      <th>Флаг дозвона</th>\n",
       "      <th>Флаг продажи</th>\n",
       "      <th>Расходы</th>\n",
       "      <th>PV</th>\n",
       "      <th>NPV</th>\n",
       "    </tr>\n",
       "  </thead>\n",
       "  <tbody>\n",
       "    <tr>\n",
       "      <th>0</th>\n",
       "      <td>0</td>\n",
       "      <td>1</td>\n",
       "      <td>0</td>\n",
       "      <td>90</td>\n",
       "      <td>0</td>\n",
       "      <td>-90</td>\n",
       "    </tr>\n",
       "    <tr>\n",
       "      <th>1</th>\n",
       "      <td>1</td>\n",
       "      <td>0</td>\n",
       "      <td>0</td>\n",
       "      <td>5</td>\n",
       "      <td>0</td>\n",
       "      <td>-5</td>\n",
       "    </tr>\n",
       "    <tr>\n",
       "      <th>2</th>\n",
       "      <td>2</td>\n",
       "      <td>0</td>\n",
       "      <td>0</td>\n",
       "      <td>68</td>\n",
       "      <td>0</td>\n",
       "      <td>-68</td>\n",
       "    </tr>\n",
       "    <tr>\n",
       "      <th>3</th>\n",
       "      <td>3</td>\n",
       "      <td>1</td>\n",
       "      <td>0</td>\n",
       "      <td>22</td>\n",
       "      <td>0</td>\n",
       "      <td>-22</td>\n",
       "    </tr>\n",
       "    <tr>\n",
       "      <th>4</th>\n",
       "      <td>4</td>\n",
       "      <td>1</td>\n",
       "      <td>0</td>\n",
       "      <td>22</td>\n",
       "      <td>0</td>\n",
       "      <td>-22</td>\n",
       "    </tr>\n",
       "  </tbody>\n",
       "</table>\n",
       "</div>"
      ],
      "text/plain": [
       "   ID  Флаг дозвона  Флаг продажи  Расходы  PV  NPV\n",
       "0   0             1             0       90   0  -90\n",
       "1   1             0             0        5   0   -5\n",
       "2   2             0             0       68   0  -68\n",
       "3   3             1             0       22   0  -22\n",
       "4   4             1             0       22   0  -22"
      ]
     },
     "execution_count": 2,
     "metadata": {},
     "output_type": "execute_result"
    }
   ],
   "source": [
    "df = pd.read_csv(\"hist_telesales.csv\")\n",
    "df.head()"
   ]
  },
  {
   "attachments": {},
   "cell_type": "markdown",
   "metadata": {},
   "source": [
    "**Описание данных:**\n",
    "\n",
    "Процесс продажи устроен следующим образом:\n",
    "\n",
    "* создаётся задание на звонок человеку;\n",
    "* оператор берёт задание и пытается дозвониться до человека;\n",
    "* если не дозванивается, мы несём некоторые затраты на время оператора и поддержку инфраструктуры;\n",
    "* если дозванивается, пытается продать наш продукт;\n",
    "* если продал, мы имеем некоторый заработок (PV) и повышенные расходы (в том числе на вознаграждение оператора).\n",
    "\n",
    "Описание колонок в исторических данных:\n",
    "\n",
    "* ID - номер задания на звонок\n",
    "* Флаг дозвона - 1 если в рамках задания мы дозвонились человеку, иначе 0\n",
    "* Флаг продажи - 1 если в рамках задания мы продали наш продукт человеку, иначе 0\n",
    "* Расходы - сумма затрат на задание\n",
    "* PV - 0 если мы не продали наш продукт, иначе = PV проданного продукта\n",
    "* NPV = PV - Расходы"
   ]
  },
  {
   "cell_type": "code",
   "execution_count": 3,
   "metadata": {},
   "outputs": [
    {
     "name": "stdout",
     "output_type": "stream",
     "text": [
      "<class 'pandas.core.frame.DataFrame'>\n",
      "RangeIndex: 72161 entries, 0 to 72160\n",
      "Data columns (total 6 columns):\n",
      " #   Column        Non-Null Count  Dtype\n",
      "---  ------        --------------  -----\n",
      " 0   ID            72161 non-null  int64\n",
      " 1   Флаг дозвона  72161 non-null  int64\n",
      " 2   Флаг продажи  72161 non-null  int64\n",
      " 3   Расходы       72161 non-null  int64\n",
      " 4   PV            72161 non-null  int64\n",
      " 5   NPV           72161 non-null  int64\n",
      "dtypes: int64(6)\n",
      "memory usage: 3.3 MB\n"
     ]
    }
   ],
   "source": [
    "df.info()"
   ]
  },
  {
   "attachments": {},
   "cell_type": "markdown",
   "metadata": {},
   "source": [
    "#### Определим целевую метрику и альтернативу"
   ]
  },
  {
   "cell_type": "code",
   "execution_count": 4,
   "metadata": {},
   "outputs": [
    {
     "data": {
      "text/html": [
       "<div>\n",
       "<style scoped>\n",
       "    .dataframe tbody tr th:only-of-type {\n",
       "        vertical-align: middle;\n",
       "    }\n",
       "\n",
       "    .dataframe tbody tr th {\n",
       "        vertical-align: top;\n",
       "    }\n",
       "\n",
       "    .dataframe thead th {\n",
       "        text-align: right;\n",
       "    }\n",
       "</style>\n",
       "<table border=\"1\" class=\"dataframe\">\n",
       "  <thead>\n",
       "    <tr style=\"text-align: right;\">\n",
       "      <th></th>\n",
       "      <th>ID</th>\n",
       "      <th>Флаг дозвона</th>\n",
       "      <th>Флаг продажи</th>\n",
       "      <th>Расходы</th>\n",
       "      <th>PV</th>\n",
       "      <th>NPV</th>\n",
       "    </tr>\n",
       "  </thead>\n",
       "  <tbody>\n",
       "    <tr>\n",
       "      <th>64928</th>\n",
       "      <td>64928</td>\n",
       "      <td>1</td>\n",
       "      <td>1</td>\n",
       "      <td>111</td>\n",
       "      <td>41255</td>\n",
       "      <td>41144</td>\n",
       "    </tr>\n",
       "    <tr>\n",
       "      <th>1701</th>\n",
       "      <td>1701</td>\n",
       "      <td>1</td>\n",
       "      <td>1</td>\n",
       "      <td>100</td>\n",
       "      <td>28246</td>\n",
       "      <td>28146</td>\n",
       "    </tr>\n",
       "    <tr>\n",
       "      <th>42493</th>\n",
       "      <td>42493</td>\n",
       "      <td>1</td>\n",
       "      <td>1</td>\n",
       "      <td>440</td>\n",
       "      <td>18543</td>\n",
       "      <td>18103</td>\n",
       "    </tr>\n",
       "    <tr>\n",
       "      <th>18651</th>\n",
       "      <td>18651</td>\n",
       "      <td>1</td>\n",
       "      <td>1</td>\n",
       "      <td>545</td>\n",
       "      <td>12729</td>\n",
       "      <td>12184</td>\n",
       "    </tr>\n",
       "    <tr>\n",
       "      <th>71716</th>\n",
       "      <td>71716</td>\n",
       "      <td>1</td>\n",
       "      <td>1</td>\n",
       "      <td>451</td>\n",
       "      <td>11782</td>\n",
       "      <td>11331</td>\n",
       "    </tr>\n",
       "  </tbody>\n",
       "</table>\n",
       "</div>"
      ],
      "text/plain": [
       "          ID  Флаг дозвона  Флаг продажи  Расходы     PV    NPV\n",
       "64928  64928             1             1      111  41255  41144\n",
       "1701    1701             1             1      100  28246  28146\n",
       "42493  42493             1             1      440  18543  18103\n",
       "18651  18651             1             1      545  12729  12184\n",
       "71716  71716             1             1      451  11782  11331"
      ]
     },
     "execution_count": 4,
     "metadata": {},
     "output_type": "execute_result"
    }
   ],
   "source": [
    "df.sort_values(by='NPV', ascending=False).head()"
   ]
  },
  {
   "attachments": {},
   "cell_type": "markdown",
   "metadata": {},
   "source": [
    "**В качестве целевой метрики выберем средний NPV по клиентам** — он будет легче интерпретироваться в отличие от суммарного значения. Медианное значение не выбирается по причине того, что в данном случае невозможен какой-то фрод, который мог бы породить большое число ненужных выбросов. Одновременно с этим, нам нет смысла выкидывать из обозрения успешные по доходности кейсы продаж (ведь это будет говорить об эффективности свежевыстроенного процесса), чем грешит медиана."
   ]
  },
  {
   "attachments": {},
   "cell_type": "markdown",
   "metadata": {},
   "source": [
    "Теперь мы можем сформулировать гипотезу (H0) и альтернативу (H1):\n",
    "* **Гипотеза H0:** средний NPV при уменьшении стоимости тарифа не изменится.\n",
    "* **Альтернатива H1:** средний NPV при уменьшении стоимости тарифа увеличится.\n",
    "\n",
    "Обоснование выбора альтернативы: при тестировании гипотезы в качестве альтернативы удобно выбирать то, что мы **пытаемся выявить.** А выявить мы пытаемся что доходность нашего продукта (наша целевая метрика) увеличится."
   ]
  },
  {
   "attachments": {},
   "cell_type": "markdown",
   "metadata": {},
   "source": [
    "#### Вычислим размеры выборок для теста и контроля"
   ]
  },
  {
   "attachments": {},
   "cell_type": "markdown",
   "metadata": {},
   "source": [
    "Используем формулу $N=\\frac{\\sigma^2(z_{1-\\alpha}-z_\\beta)^2}{k*\\Delta^2}$\n",
    "\n",
    "Где $\\Delta$ — это метрика MDE, вычисляемая в нашем случае как MDE = желаемое изменение метрики * значение метрики на контроле"
   ]
  },
  {
   "cell_type": "code",
   "execution_count": 5,
   "metadata": {},
   "outputs": [
    {
     "data": {
      "text/plain": [
       "28671.429203969576"
      ]
     },
     "execution_count": 5,
     "metadata": {},
     "output_type": "execute_result"
    }
   ],
   "source": [
    "from scipy.stats import norm\n",
    "\n",
    "alpha = 0.05\n",
    "beta = 0.2\n",
    "k=0.5\n",
    "\n",
    "quantile_1 = norm.ppf(1-alpha)\n",
    "quantile_2 = norm.ppf(beta)\n",
    "var = np.var(df.NPV)\n",
    "MDE=0.05*np.mean(df.NPV)\n",
    "\n",
    "sample_size = (var*(quantile_1-quantile_2)**2)/(k*MDE**2)\n",
    "sample_size"
   ]
  },
  {
   "attachments": {},
   "cell_type": "markdown",
   "metadata": {},
   "source": [
    "Заключаем, что размер выборки для теста и контроля равен 28671 человек."
   ]
  },
  {
   "attachments": {},
   "cell_type": "markdown",
   "metadata": {},
   "source": [
    "**ПОЛУЧЕННЫЙ КОД ВЫБОРКИ – 4928**"
   ]
  },
  {
   "attachments": {},
   "cell_type": "markdown",
   "metadata": {},
   "source": [
    "Полученные выборки теста и контроля:"
   ]
  },
  {
   "cell_type": "code",
   "execution_count": 6,
   "metadata": {},
   "outputs": [],
   "source": [
    "df_test = pd.read_csv(\"Тест.csv\")\n",
    "df_control = pd.read_csv(\"Контроль.csv\")"
   ]
  },
  {
   "cell_type": "code",
   "execution_count": 7,
   "metadata": {},
   "outputs": [
    {
     "data": {
      "text/html": [
       "<div>\n",
       "<style scoped>\n",
       "    .dataframe tbody tr th:only-of-type {\n",
       "        vertical-align: middle;\n",
       "    }\n",
       "\n",
       "    .dataframe tbody tr th {\n",
       "        vertical-align: top;\n",
       "    }\n",
       "\n",
       "    .dataframe thead th {\n",
       "        text-align: right;\n",
       "    }\n",
       "</style>\n",
       "<table border=\"1\" class=\"dataframe\">\n",
       "  <thead>\n",
       "    <tr style=\"text-align: right;\">\n",
       "      <th></th>\n",
       "      <th>ID</th>\n",
       "      <th>Флаг дозвона</th>\n",
       "      <th>Флаг продажи</th>\n",
       "      <th>Расходы</th>\n",
       "      <th>PV</th>\n",
       "      <th>NPV</th>\n",
       "    </tr>\n",
       "  </thead>\n",
       "  <tbody>\n",
       "    <tr>\n",
       "      <th>0</th>\n",
       "      <td>0</td>\n",
       "      <td>0</td>\n",
       "      <td>0</td>\n",
       "      <td>67</td>\n",
       "      <td>0</td>\n",
       "      <td>-67</td>\n",
       "    </tr>\n",
       "    <tr>\n",
       "      <th>1</th>\n",
       "      <td>1</td>\n",
       "      <td>1</td>\n",
       "      <td>1</td>\n",
       "      <td>408</td>\n",
       "      <td>1539</td>\n",
       "      <td>1131</td>\n",
       "    </tr>\n",
       "    <tr>\n",
       "      <th>2</th>\n",
       "      <td>2</td>\n",
       "      <td>1</td>\n",
       "      <td>0</td>\n",
       "      <td>32</td>\n",
       "      <td>0</td>\n",
       "      <td>-32</td>\n",
       "    </tr>\n",
       "    <tr>\n",
       "      <th>3</th>\n",
       "      <td>3</td>\n",
       "      <td>1</td>\n",
       "      <td>0</td>\n",
       "      <td>33</td>\n",
       "      <td>0</td>\n",
       "      <td>-33</td>\n",
       "    </tr>\n",
       "    <tr>\n",
       "      <th>4</th>\n",
       "      <td>4</td>\n",
       "      <td>0</td>\n",
       "      <td>0</td>\n",
       "      <td>16</td>\n",
       "      <td>0</td>\n",
       "      <td>-16</td>\n",
       "    </tr>\n",
       "  </tbody>\n",
       "</table>\n",
       "</div>"
      ],
      "text/plain": [
       "   ID  Флаг дозвона  Флаг продажи  Расходы    PV   NPV\n",
       "0   0             0             0       67     0   -67\n",
       "1   1             1             1      408  1539  1131\n",
       "2   2             1             0       32     0   -32\n",
       "3   3             1             0       33     0   -33\n",
       "4   4             0             0       16     0   -16"
      ]
     },
     "execution_count": 7,
     "metadata": {},
     "output_type": "execute_result"
    }
   ],
   "source": [
    "df_test.head()"
   ]
  },
  {
   "cell_type": "code",
   "execution_count": 8,
   "metadata": {},
   "outputs": [
    {
     "data": {
      "text/html": [
       "<div>\n",
       "<style scoped>\n",
       "    .dataframe tbody tr th:only-of-type {\n",
       "        vertical-align: middle;\n",
       "    }\n",
       "\n",
       "    .dataframe tbody tr th {\n",
       "        vertical-align: top;\n",
       "    }\n",
       "\n",
       "    .dataframe thead th {\n",
       "        text-align: right;\n",
       "    }\n",
       "</style>\n",
       "<table border=\"1\" class=\"dataframe\">\n",
       "  <thead>\n",
       "    <tr style=\"text-align: right;\">\n",
       "      <th></th>\n",
       "      <th>ID</th>\n",
       "      <th>Флаг дозвона</th>\n",
       "      <th>Флаг продажи</th>\n",
       "      <th>Расходы</th>\n",
       "      <th>PV</th>\n",
       "      <th>NPV</th>\n",
       "    </tr>\n",
       "  </thead>\n",
       "  <tbody>\n",
       "    <tr>\n",
       "      <th>0</th>\n",
       "      <td>0</td>\n",
       "      <td>0</td>\n",
       "      <td>0</td>\n",
       "      <td>17</td>\n",
       "      <td>0</td>\n",
       "      <td>-17</td>\n",
       "    </tr>\n",
       "    <tr>\n",
       "      <th>1</th>\n",
       "      <td>1</td>\n",
       "      <td>0</td>\n",
       "      <td>0</td>\n",
       "      <td>96</td>\n",
       "      <td>0</td>\n",
       "      <td>-96</td>\n",
       "    </tr>\n",
       "    <tr>\n",
       "      <th>2</th>\n",
       "      <td>2</td>\n",
       "      <td>0</td>\n",
       "      <td>0</td>\n",
       "      <td>34</td>\n",
       "      <td>0</td>\n",
       "      <td>-34</td>\n",
       "    </tr>\n",
       "    <tr>\n",
       "      <th>3</th>\n",
       "      <td>3</td>\n",
       "      <td>1</td>\n",
       "      <td>1</td>\n",
       "      <td>980</td>\n",
       "      <td>1353</td>\n",
       "      <td>373</td>\n",
       "    </tr>\n",
       "    <tr>\n",
       "      <th>4</th>\n",
       "      <td>4</td>\n",
       "      <td>0</td>\n",
       "      <td>0</td>\n",
       "      <td>6</td>\n",
       "      <td>0</td>\n",
       "      <td>-6</td>\n",
       "    </tr>\n",
       "  </tbody>\n",
       "</table>\n",
       "</div>"
      ],
      "text/plain": [
       "   ID  Флаг дозвона  Флаг продажи  Расходы    PV  NPV\n",
       "0   0             0             0       17     0  -17\n",
       "1   1             0             0       96     0  -96\n",
       "2   2             0             0       34     0  -34\n",
       "3   3             1             1      980  1353  373\n",
       "4   4             0             0        6     0   -6"
      ]
     },
     "execution_count": 8,
     "metadata": {},
     "output_type": "execute_result"
    }
   ],
   "source": [
    "df_control.head()"
   ]
  },
  {
   "attachments": {},
   "cell_type": "markdown",
   "metadata": {},
   "source": [
    "#### Проведём односторонний z-test на проверку равенства средних выборок"
   ]
  },
  {
   "cell_type": "code",
   "execution_count": 9,
   "metadata": {},
   "outputs": [
    {
     "data": {
      "text/plain": [
       "(4.109980262573307, 1.978464687482222e-05)"
      ]
     },
     "execution_count": 9,
     "metadata": {},
     "output_type": "execute_result"
    }
   ],
   "source": [
    "from statsmodels.stats.weightstats import ztest\n",
    "\n",
    "mean_control = np.mean(df_control.NPV)\n",
    "\n",
    "ztest(x1=df_test.NPV, x2=df_control.NPV, value=0, alternative='larger')"
   ]
  },
  {
   "attachments": {},
   "cell_type": "markdown",
   "metadata": {},
   "source": [
    "**Заключение:** p-value > 0.05, следовательно мы отвергаем нулевую гипотезу о равенстве средних и принимаем альтернативу о том, что значение метрики на тесте больше, чем на контроле. Таким образом, мы заключаем, что новый вариант продажи с новой ценой действительно приводит к росту доходности продукта, что и было нашей изначальной гипотезой."
   ]
  },
  {
   "attachments": {},
   "cell_type": "markdown",
   "metadata": {},
   "source": [
    "##  <ins>Задание 2.</ins>"
   ]
  },
  {
   "attachments": {},
   "cell_type": "markdown",
   "metadata": {},
   "source": [
    "### Проект 2.2 \"A/B тест на процессе оформления кредитных карт\""
   ]
  },
  {
   "attachments": {},
   "cell_type": "markdown",
   "metadata": {},
   "source": [
    "**Контекст:** ЦБ смягчило правило, ограничивающее варианты продажи услуги. Мы хотим попробовать более агрессивную продажу услуги, но боимся, что это повлияет на экономику основного продукта (КК) из-за негатива клиентов.\n",
    "\n",
    "**Тест:** Мы проводим тест, в рамках которого мы разбиваем весь поток на две части равновероятно, где одной части (контролю) мы будем предлагать услугу текущим способом, а второй части (тесту) — новым более агрессивным способом. Целью этого теста является увеличение доходности КК + услуги.\n",
    "\n",
    "**Статистические вводные:** Проверка однородности выбранного параметра осуществяется с уровнем значимости 2%. Уровень значимости 5%. Мы хотели бы различать 3%-ное изменение целевой метрики с вероятностью 85%."
   ]
  },
  {
   "cell_type": "code",
   "execution_count": null,
   "metadata": {},
   "outputs": [],
   "source": [
    "import warnings\n",
    "warnings.filterwarnings('ignore')\n",
    "\n",
    "import numpy as np\n",
    "import pandas as pd\n",
    "import matplotlib.pyplot as plt\n",
    "import seaborn as sns"
   ]
  },
  {
   "cell_type": "code",
   "execution_count": null,
   "metadata": {},
   "outputs": [
    {
     "data": {
      "text/html": [
       "<div>\n",
       "<style scoped>\n",
       "    .dataframe tbody tr th:only-of-type {\n",
       "        vertical-align: middle;\n",
       "    }\n",
       "\n",
       "    .dataframe tbody tr th {\n",
       "        vertical-align: top;\n",
       "    }\n",
       "\n",
       "    .dataframe thead th {\n",
       "        text-align: right;\n",
       "    }\n",
       "</style>\n",
       "<table border=\"1\" class=\"dataframe\">\n",
       "  <thead>\n",
       "    <tr style=\"text-align: right;\">\n",
       "      <th></th>\n",
       "      <th>ID</th>\n",
       "      <th>Возраст</th>\n",
       "      <th>Доход клиента</th>\n",
       "      <th>Вероятность банкротства</th>\n",
       "      <th>Флаг утилизации счёта</th>\n",
       "      <th>Расходы</th>\n",
       "      <th>PV КК</th>\n",
       "      <th>PV услуги</th>\n",
       "      <th>NPV</th>\n",
       "    </tr>\n",
       "  </thead>\n",
       "  <tbody>\n",
       "    <tr>\n",
       "      <th>0</th>\n",
       "      <td>0</td>\n",
       "      <td>19</td>\n",
       "      <td>21620.835463</td>\n",
       "      <td>0.138061</td>\n",
       "      <td>0</td>\n",
       "      <td>102</td>\n",
       "      <td>0</td>\n",
       "      <td>0</td>\n",
       "      <td>-102</td>\n",
       "    </tr>\n",
       "    <tr>\n",
       "      <th>1</th>\n",
       "      <td>1</td>\n",
       "      <td>27</td>\n",
       "      <td>24897.990863</td>\n",
       "      <td>0.035508</td>\n",
       "      <td>1</td>\n",
       "      <td>409</td>\n",
       "      <td>11686</td>\n",
       "      <td>1754</td>\n",
       "      <td>13031</td>\n",
       "    </tr>\n",
       "    <tr>\n",
       "      <th>2</th>\n",
       "      <td>2</td>\n",
       "      <td>50</td>\n",
       "      <td>23989.526947</td>\n",
       "      <td>0.098793</td>\n",
       "      <td>0</td>\n",
       "      <td>16</td>\n",
       "      <td>0</td>\n",
       "      <td>0</td>\n",
       "      <td>-16</td>\n",
       "    </tr>\n",
       "    <tr>\n",
       "      <th>3</th>\n",
       "      <td>3</td>\n",
       "      <td>18</td>\n",
       "      <td>38442.409756</td>\n",
       "      <td>0.365661</td>\n",
       "      <td>1</td>\n",
       "      <td>788</td>\n",
       "      <td>13738</td>\n",
       "      <td>1578</td>\n",
       "      <td>14528</td>\n",
       "    </tr>\n",
       "    <tr>\n",
       "      <th>4</th>\n",
       "      <td>4</td>\n",
       "      <td>24</td>\n",
       "      <td>21291.521612</td>\n",
       "      <td>0.036909</td>\n",
       "      <td>1</td>\n",
       "      <td>1048</td>\n",
       "      <td>6594</td>\n",
       "      <td>2213</td>\n",
       "      <td>7759</td>\n",
       "    </tr>\n",
       "  </tbody>\n",
       "</table>\n",
       "</div>"
      ],
      "text/plain": [
       "   ID  Возраст  Доход клиента  Вероятность банкротства  Флаг утилизации счёта  \\\n",
       "0   0       19   21620.835463                 0.138061                      0   \n",
       "1   1       27   24897.990863                 0.035508                      1   \n",
       "2   2       50   23989.526947                 0.098793                      0   \n",
       "3   3       18   38442.409756                 0.365661                      1   \n",
       "4   4       24   21291.521612                 0.036909                      1   \n",
       "\n",
       "   Расходы  PV КК  PV услуги    NPV  \n",
       "0      102      0          0   -102  \n",
       "1      409  11686       1754  13031  \n",
       "2       16      0          0    -16  \n",
       "3      788  13738       1578  14528  \n",
       "4     1048   6594       2213   7759  "
      ]
     },
     "metadata": {},
     "output_type": "display_data"
    }
   ],
   "source": [
    "df = pd.read_csv(\"hist_credit_card.csv\")\n",
    "df.head()"
   ]
  },
  {
   "attachments": {},
   "cell_type": "markdown",
   "metadata": {},
   "source": [
    "**Описание данных:**\n",
    "\n",
    "Процесс оформления кредитной карты (КК) устроен следующим образом:\n",
    "\n",
    "* человек заходит на сайт и заполняет информацию о себе (в том числе возраст и доход клиента) для получения кредитной карты;\n",
    "* человек проходит скоринг (в том числе в рамках которого оценивается вероятность банкротства клиента);\n",
    "* создаётся заявка на оформление кредитной карты;\n",
    "* человеку выпускается виртуальная карта, а также предлагается наша услуга к этому счёту;\n",
    "* с некоторой вероятностью человек утилизирует счёт (начинает им пользоваться);\n",
    "* если человек не утилизирует счёт, мы несём некоторые затраты на время оператора и поддержку инфраструктуры;\n",
    "* если человек утилизировал карту, мы имеем некоторый заработок (PV) и повышенные расходы.\n",
    "\n",
    "Описание колонок в исторических данных:\n",
    "\n",
    "* ID — номер заявки, прошедшей скоринг\n",
    "* Возраст — возраст клиента, указанный при оформлении КК\n",
    "* Доход клиента — доход клиента, указанный при оформлении КК\n",
    "* Вероятность банкротства — оценка вероятности банкротства клиента, полученная с помощью скоринга по параметрам клиента\n",
    "* Флаг утилизация счёта — совершение первой расходной операции на счёте КК\n",
    "* Расходы — сумма затрат на заявку\n",
    "* PV КК = 0, если счёт не утилизирован, иначе = PV кредитной карты\n",
    "* PV услуги = 0, если счёт не утилизирован, иначе = PV этой услуги\n",
    "* NPV = PV КК + PV услуги - Расходы"
   ]
  },
  {
   "cell_type": "code",
   "execution_count": null,
   "metadata": {},
   "outputs": [
    {
     "name": "stdout",
     "output_type": "stream",
     "text": [
      "<class 'pandas.core.frame.DataFrame'>\n",
      "RangeIndex: 123255 entries, 0 to 123254\n",
      "Data columns (total 9 columns):\n",
      " #   Column                   Non-Null Count   Dtype  \n",
      "---  ------                   --------------   -----  \n",
      " 0   ID                       123255 non-null  int64  \n",
      " 1   Возраст                  123255 non-null  int64  \n",
      " 2   Доход клиента            123255 non-null  float64\n",
      " 3   Вероятность банкротства  123255 non-null  float64\n",
      " 4   Флаг утилизации счёта    123255 non-null  int64  \n",
      " 5   Расходы                  123255 non-null  int64  \n",
      " 6   PV КК                    123255 non-null  int64  \n",
      " 7   PV услуги                123255 non-null  int64  \n",
      " 8   NPV                      123255 non-null  int64  \n",
      "dtypes: float64(2), int64(7)\n",
      "memory usage: 8.5 MB\n"
     ]
    }
   ],
   "source": [
    "df.info()"
   ]
  },
  {
   "attachments": {},
   "cell_type": "markdown",
   "metadata": {},
   "source": [
    "#### Определим целевую метрику и альтернативу"
   ]
  },
  {
   "attachments": {},
   "cell_type": "markdown",
   "metadata": {},
   "source": [
    "Целью теста является увеличение доходности КК и услуги, поэтому в качестве целевой метрики выберем средний NPV по клиентам. Эта метрика хорошо интерпретируется и допустима ввиду отсутствия фрода в данных (если NPV по каким-то клиентам значительно выше остальных, это означает особенно успешный кейс, который нужно учитывать, поэтому выбор медианы нецелесообразен)."
   ]
  },
  {
   "attachments": {},
   "cell_type": "markdown",
   "metadata": {},
   "source": [
    "Сформулируем гипотезу (H0) и альтернативу (H1):\n",
    "* **Гипотеза H0:** средний NPV при уменьшении стоимости тарифа не изменится.\n",
    "* **Альтернатива H1:** средний NPV при уменьшении стоимости тарифа увеличится.\n",
    "\n",
    "Обоснование выбора альтернативы: при тестировании гипотезы в качестве альтернативы удобно выбирать то, что мы **пытаемся выявить.** А выявить мы пытаемся что доходность нашего продукта (наша целевая метрика) увеличится."
   ]
  },
  {
   "attachments": {},
   "cell_type": "markdown",
   "metadata": {},
   "source": [
    "#### Выбор параметра для проверки однородности\n",
    "\n",
    "Параметр для проверки однородности будем выбирать только из тех, что доступны до прохода человека по процессу заявки. Для этого построим матрицу корреляций и выберем среди параметров 'Возраст', 'Доход клиента' и 'Вероятность банкротства' тот параметр, который сильнее всего коррелирует с целевой метрикой NPV."
   ]
  },
  {
   "cell_type": "code",
   "execution_count": null,
   "metadata": {},
   "outputs": [
    {
     "data": {
      "image/png": "[encoded data removed]",
      "text/plain": [
       "<Figure size 1000x500 with 2 Axes>"
      ]
     },
     "metadata": {},
     "output_type": "display_data"
    }
   ],
   "source": [
    "plt.figure(figsize=[10,5])\n",
    "sns.heatmap(df.corr(), annot = True, fmt='.1g', linewidths=.2)\n",
    "plt.show()"
   ]
  },
  {
   "attachments": {},
   "cell_type": "markdown",
   "metadata": {},
   "source": [
    "Наибольшую корреляцию с NPV имеет параметр 'Вероятность банкротства' — оставим его в качестве параметра для проверки однородности."
   ]
  },
  {
   "attachments": {},
   "cell_type": "markdown",
   "metadata": {},
   "source": [
    "#### Вычислим размеры выборок для теста и контроля"
   ]
  },
  {
   "cell_type": "code",
   "execution_count": null,
   "metadata": {},
   "outputs": [
    {
     "data": {
      "text/plain": [
       "(123255, 9)"
      ]
     },
     "metadata": {},
     "output_type": "display_data"
    }
   ],
   "source": [
    "df.shape"
   ]
  },
  {
   "attachments": {},
   "cell_type": "markdown",
   "metadata": {},
   "source": [
    "Согласно условию, мы разбиваем весь поток на две части равновероятно. Всего в потоке 123255, в каждой из выборок будет по 61627 наблюдений."
   ]
  },
  {
   "attachments": {},
   "cell_type": "markdown",
   "metadata": {},
   "source": [
    "**ПОЛУЧЕННЫЙ КОД ВЫБОРКИ — 12017**"
   ]
  },
  {
   "cell_type": "code",
   "execution_count": null,
   "metadata": {},
   "outputs": [],
   "source": [
    "df_test = pd.read_csv(\"Тест_КК.csv\")\n",
    "df_control = pd.read_csv(\"Контроль_КК.csv\")"
   ]
  },
  {
   "cell_type": "code",
   "execution_count": null,
   "metadata": {},
   "outputs": [
    {
     "data": {
      "text/html": [
       "<div>\n",
       "<style scoped>\n",
       "    .dataframe tbody tr th:only-of-type {\n",
       "        vertical-align: middle;\n",
       "    }\n",
       "\n",
       "    .dataframe tbody tr th {\n",
       "        vertical-align: top;\n",
       "    }\n",
       "\n",
       "    .dataframe thead th {\n",
       "        text-align: right;\n",
       "    }\n",
       "</style>\n",
       "<table border=\"1\" class=\"dataframe\">\n",
       "  <thead>\n",
       "    <tr style=\"text-align: right;\">\n",
       "      <th></th>\n",
       "      <th>ID</th>\n",
       "      <th>Возраст</th>\n",
       "      <th>Доход клиента</th>\n",
       "      <th>Вероятность банкротства</th>\n",
       "      <th>Флаг утилизации счёта</th>\n",
       "      <th>Расходы</th>\n",
       "      <th>PV КК</th>\n",
       "      <th>PV услуги</th>\n",
       "      <th>NPV</th>\n",
       "    </tr>\n",
       "  </thead>\n",
       "  <tbody>\n",
       "    <tr>\n",
       "      <th>0</th>\n",
       "      <td>0</td>\n",
       "      <td>61</td>\n",
       "      <td>26360.539774</td>\n",
       "      <td>0.069059</td>\n",
       "      <td>0</td>\n",
       "      <td>57</td>\n",
       "      <td>0</td>\n",
       "      <td>0</td>\n",
       "      <td>-57</td>\n",
       "    </tr>\n",
       "    <tr>\n",
       "      <th>1</th>\n",
       "      <td>1</td>\n",
       "      <td>30</td>\n",
       "      <td>72687.097593</td>\n",
       "      <td>0.001142</td>\n",
       "      <td>1</td>\n",
       "      <td>215</td>\n",
       "      <td>12730</td>\n",
       "      <td>1607</td>\n",
       "      <td>14122</td>\n",
       "    </tr>\n",
       "    <tr>\n",
       "      <th>2</th>\n",
       "      <td>2</td>\n",
       "      <td>36</td>\n",
       "      <td>22104.326029</td>\n",
       "      <td>0.051648</td>\n",
       "      <td>1</td>\n",
       "      <td>95</td>\n",
       "      <td>26816</td>\n",
       "      <td>2127</td>\n",
       "      <td>28848</td>\n",
       "    </tr>\n",
       "    <tr>\n",
       "      <th>3</th>\n",
       "      <td>3</td>\n",
       "      <td>19</td>\n",
       "      <td>36493.540045</td>\n",
       "      <td>0.160917</td>\n",
       "      <td>1</td>\n",
       "      <td>1077</td>\n",
       "      <td>8501</td>\n",
       "      <td>2888</td>\n",
       "      <td>10312</td>\n",
       "    </tr>\n",
       "    <tr>\n",
       "      <th>4</th>\n",
       "      <td>4</td>\n",
       "      <td>37</td>\n",
       "      <td>34438.898649</td>\n",
       "      <td>0.227528</td>\n",
       "      <td>1</td>\n",
       "      <td>3654</td>\n",
       "      <td>7326</td>\n",
       "      <td>2731</td>\n",
       "      <td>6403</td>\n",
       "    </tr>\n",
       "  </tbody>\n",
       "</table>\n",
       "</div>"
      ],
      "text/plain": [
       "   ID  Возраст  Доход клиента  Вероятность банкротства  Флаг утилизации счёта  \\\n",
       "0   0       61   26360.539774                 0.069059                      0   \n",
       "1   1       30   72687.097593                 0.001142                      1   \n",
       "2   2       36   22104.326029                 0.051648                      1   \n",
       "3   3       19   36493.540045                 0.160917                      1   \n",
       "4   4       37   34438.898649                 0.227528                      1   \n",
       "\n",
       "   Расходы  PV КК  PV услуги    NPV  \n",
       "0       57      0          0    -57  \n",
       "1      215  12730       1607  14122  \n",
       "2       95  26816       2127  28848  \n",
       "3     1077   8501       2888  10312  \n",
       "4     3654   7326       2731   6403  "
      ]
     },
     "metadata": {},
     "output_type": "display_data"
    }
   ],
   "source": [
    "df_test.head()"
   ]
  },
  {
   "cell_type": "code",
   "execution_count": null,
   "metadata": {},
   "outputs": [
    {
     "data": {
      "text/html": [
       "<div>\n",
       "<style scoped>\n",
       "    .dataframe tbody tr th:only-of-type {\n",
       "        vertical-align: middle;\n",
       "    }\n",
       "\n",
       "    .dataframe tbody tr th {\n",
       "        vertical-align: top;\n",
       "    }\n",
       "\n",
       "    .dataframe thead th {\n",
       "        text-align: right;\n",
       "    }\n",
       "</style>\n",
       "<table border=\"1\" class=\"dataframe\">\n",
       "  <thead>\n",
       "    <tr style=\"text-align: right;\">\n",
       "      <th></th>\n",
       "      <th>ID</th>\n",
       "      <th>Возраст</th>\n",
       "      <th>Доход клиента</th>\n",
       "      <th>Вероятность банкротства</th>\n",
       "      <th>Флаг утилизации счёта</th>\n",
       "      <th>Расходы</th>\n",
       "      <th>PV КК</th>\n",
       "      <th>PV услуги</th>\n",
       "      <th>NPV</th>\n",
       "    </tr>\n",
       "  </thead>\n",
       "  <tbody>\n",
       "    <tr>\n",
       "      <th>0</th>\n",
       "      <td>0</td>\n",
       "      <td>29</td>\n",
       "      <td>20846.381885</td>\n",
       "      <td>0.238897</td>\n",
       "      <td>0</td>\n",
       "      <td>4</td>\n",
       "      <td>0</td>\n",
       "      <td>0</td>\n",
       "      <td>-4</td>\n",
       "    </tr>\n",
       "    <tr>\n",
       "      <th>1</th>\n",
       "      <td>1</td>\n",
       "      <td>59</td>\n",
       "      <td>23506.146921</td>\n",
       "      <td>0.122238</td>\n",
       "      <td>0</td>\n",
       "      <td>20</td>\n",
       "      <td>0</td>\n",
       "      <td>0</td>\n",
       "      <td>-20</td>\n",
       "    </tr>\n",
       "    <tr>\n",
       "      <th>2</th>\n",
       "      <td>2</td>\n",
       "      <td>32</td>\n",
       "      <td>28053.578085</td>\n",
       "      <td>0.173778</td>\n",
       "      <td>1</td>\n",
       "      <td>921</td>\n",
       "      <td>6123</td>\n",
       "      <td>1364</td>\n",
       "      <td>6566</td>\n",
       "    </tr>\n",
       "    <tr>\n",
       "      <th>3</th>\n",
       "      <td>3</td>\n",
       "      <td>33</td>\n",
       "      <td>22410.711770</td>\n",
       "      <td>0.086673</td>\n",
       "      <td>1</td>\n",
       "      <td>744</td>\n",
       "      <td>11016</td>\n",
       "      <td>1459</td>\n",
       "      <td>11731</td>\n",
       "    </tr>\n",
       "    <tr>\n",
       "      <th>4</th>\n",
       "      <td>4</td>\n",
       "      <td>21</td>\n",
       "      <td>31165.407449</td>\n",
       "      <td>0.023087</td>\n",
       "      <td>1</td>\n",
       "      <td>171</td>\n",
       "      <td>6759</td>\n",
       "      <td>1479</td>\n",
       "      <td>8067</td>\n",
       "    </tr>\n",
       "  </tbody>\n",
       "</table>\n",
       "</div>"
      ],
      "text/plain": [
       "   ID  Возраст  Доход клиента  Вероятность банкротства  Флаг утилизации счёта  \\\n",
       "0   0       29   20846.381885                 0.238897                      0   \n",
       "1   1       59   23506.146921                 0.122238                      0   \n",
       "2   2       32   28053.578085                 0.173778                      1   \n",
       "3   3       33   22410.711770                 0.086673                      1   \n",
       "4   4       21   31165.407449                 0.023087                      1   \n",
       "\n",
       "   Расходы  PV КК  PV услуги    NPV  \n",
       "0        4      0          0     -4  \n",
       "1       20      0          0    -20  \n",
       "2      921   6123       1364   6566  \n",
       "3      744  11016       1459  11731  \n",
       "4      171   6759       1479   8067  "
      ]
     },
     "metadata": {},
     "output_type": "display_data"
    }
   ],
   "source": [
    "df_control.head()"
   ]
  },
  {
   "attachments": {},
   "cell_type": "markdown",
   "metadata": {},
   "source": [
    "#### Проверка однородности выборок по параметру 'Вероятность банкротства'"
   ]
  },
  {
   "cell_type": "code",
   "execution_count": null,
   "metadata": {},
   "outputs": [
    {
     "data": {
      "text/plain": [
       "KstestResult(statistic=0.0039917568598178965, pvalue=0.7084759258696558)"
      ]
     },
     "metadata": {},
     "output_type": "display_data"
    }
   ],
   "source": [
    "from scipy.stats import ks_2samp\n",
    "from scipy.stats import anderson_ksamp\n",
    "\n",
    "ks_2samp(df_test['Вероятность банкротства'], df_control['Вероятность банкротства'])"
   ]
  },
  {
   "attachments": {},
   "cell_type": "markdown",
   "metadata": {},
   "source": [
    "Вывод: p-value > 0.02, следовательно мы НЕ отвергаем гипотезу об однородности выборок теста и контроля."
   ]
  },
  {
   "attachments": {},
   "cell_type": "markdown",
   "metadata": {},
   "source": [
    "#### Применим z-test для проверки изначальной гипотезы"
   ]
  },
  {
   "cell_type": "code",
   "execution_count": null,
   "metadata": {},
   "outputs": [
    {
     "data": {
      "text/plain": [
       "(1.5154207525220171, 0.0648329426184179)"
      ]
     },
     "metadata": {},
     "output_type": "display_data"
    }
   ],
   "source": [
    "from statsmodels.stats.weightstats import ztest\n",
    "\n",
    "mean_control = np.mean(df_control.NPV)\n",
    "ztest(x1=df_test.NPV, x2=df_control.NPV, value=0, alternative='larger')"
   ]
  },
  {
   "attachments": {},
   "cell_type": "markdown",
   "metadata": {},
   "source": [
    "**Вывод:** p-value > 0.05, следовательно мы НЕ отвергаем нулевую гипотезу о равенстве средних. Такимо образом, мы можем заключить, что изменение продукта не оправданы — мы не зафиксировали желаемой статистически значимой разницы."
   ]
  }
 ],
 "metadata": {
  "kernelspec": {
   "display_name": "Python 3",
   "language": "python",
   "name": "python3"
  },
  "language_info": {
   "codemirror_mode": {
    "name": "ipython",
    "version": 3
   },
   "file_extension": ".py",
   "mimetype": "text/x-python",
   "name": "python",
   "nbconvert_exporter": "python",
   "pygments_lexer": "ipython3",
   "version": "3.10.7 (v3.10.7:6cc6b13308, Sep  5 2022, 14:02:52) [Clang 13.0.0 (clang-1300.0.29.30)]"
  },
  "orig_nbformat": 4,
  "vscode": {
   "interpreter": {
    "hash": "aee8b7b246df8f9039afb4144a1f6fd8d2ca17a180786b69acc140d282b71a49"
   }
  }
 },
 "nbformat": 4,
 "nbformat_minor": 2
}
